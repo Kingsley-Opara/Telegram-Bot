{
 "cells": [
  {
   "cell_type": "code",
   "execution_count": 1,
   "id": "1f77d7f5-6690-405a-bc26-982fe614a919",
   "metadata": {},
   "outputs": [
    {
     "data": {
      "text/plain": [
       "True"
      ]
     },
     "execution_count": 1,
     "metadata": {},
     "output_type": "execute_result"
    }
   ],
   "source": [
    "from dotenv import load_dotenv\n",
    "\n",
    "import os\n",
    "\n",
    "load_dotenv()"
   ]
  },
  {
   "cell_type": "code",
   "execution_count": 2,
   "id": "4a621f96-b16a-433f-9726-04442a8a36ac",
   "metadata": {},
   "outputs": [],
   "source": [
    "GOOGLE_API_KEY = os.environ.get(\"GOOGLE_API_KEY \")\n",
    "\n",
    "UPSTASH_VECTOR_REST_TOKEN = os.environ.get(\"UPSTASH_VECTOR_REST_TOKEN \")\n",
    "\n",
    "UPSTASH_VECTOR_REST_URL = os.environ.get(\"UPSTASH_VECTOR_REST_URL\")"
   ]
  },
  {
   "cell_type": "code",
   "execution_count": 3,
   "id": "e08c9fe6-a62c-4c8b-9884-c72d7270ab76",
   "metadata": {},
   "outputs": [],
   "source": [
    "from langchain_google_genai import GoogleGenerativeAIEmbeddings\n",
    "\n",
    "embeddings = GoogleGenerativeAIEmbeddings(model=\"models/embedding-001\")"
   ]
  },
  {
   "cell_type": "code",
   "execution_count": 4,
   "id": "2321b79d-2322-4ccc-96ff-fc170c7ed3d8",
   "metadata": {},
   "outputs": [],
   "source": [
    "from langchain_community.vectorstores import UpstashVectorStore\n",
    "\n",
    "\n",
    "store = UpstashVectorStore(\n",
    "    embedding = embeddings,\n",
    "    index_url = UPSTASH_VECTOR_REST_URL ,\n",
    "    index_token = UPSTASH_VECTOR_REST_TOKEN\n",
    ")"
   ]
  },
  {
   "cell_type": "code",
   "execution_count": null,
   "id": "b86e9514-845e-4467-a9ec-83029d51be51",
   "metadata": {},
   "outputs": [],
   "source": [
    "import pathlib\n",
    "from langchain_core.documents import Document\n",
    "from PyPDF2 import PdfReader\n",
    "\n",
    "\n",
    "BASE_DIR = pathlib.Path(\"__file__\").parent.resolve()\n",
    "\n",
    "DATASET_DIR = BASE_DIR/\"dataset\"\n",
    "\n",
    "documents = []\n",
    "# for i in DATASET_DIR.iterdir():\n",
    "#     reader = PdfReader(i)\n",
    " \n",
    "#     for page in reader.pages:\n",
    "#         text = page.extract_text()\n",
    "#         texts.append(text)\n",
    "\n",
    "katzung = DATASET_DIR/\"Katzung Basic and Clinical Pharmacology - 13E (2015) [TruePDF] [UnitedVRG] c.pdf\"\n",
    "tripathi = DATASET_DIR/\"KD-Tripathi-Pharmacology-Book.pdf\"\n",
    "lippincot = DATASET_DIR/\"Lippincot Pharmacology 5th edition.pdf\"\n",
    "\n",
    "textbooks = [katzung, tripathi, lippincot]\n",
    "\n",
    "for textbook in textbooks:\n",
    "    reader = PdfReader(str(textbook))\n",
    "     \n",
    "    for page in reader.pages:\n",
    "        text = page.extract_text()\n",
    "    \n",
    "        doc = Document(\n",
    "            page_content = text,\n",
    "            metadata = {\n",
    "                \"source\": os.path.basename(textbook),\n",
    "                \"title\": os.path.basename(textbook)\n",
    "            }\n",
    "        )\n",
    "        documents.append(doc)\n",
    "\n",
    "                \n"
   ]
  },
  {
   "cell_type": "code",
   "execution_count": null,
   "id": "27dd9710-00b5-4eed-96d8-797b04f7ec90",
   "metadata": {},
   "outputs": [],
   "source": [
    "documents[2].metadata"
   ]
  },
  {
   "cell_type": "code",
   "execution_count": null,
   "id": "f0d2c4f5-f033-4794-a8d8-1fef92511308",
   "metadata": {},
   "outputs": [],
   "source": [
    "from langchain_text_splitters import TokenTextSplitter\n",
    "\n",
    "text_splitter = TokenTextSplitter.from_tiktoken_encoder(model_name = \"gpt-4o\", chunk_size=100, chunk_overlap=0)"
   ]
  },
  {
   "cell_type": "code",
   "execution_count": null,
   "id": "24633ff4-8852-4d94-9ed8-b84e575d6352",
   "metadata": {},
   "outputs": [],
   "source": [
    "docs = text_splitter.split_documents(documents)"
   ]
  },
  {
   "cell_type": "code",
   "execution_count": null,
   "id": "e628552e-2909-4f07-a532-0c8dca46718a",
   "metadata": {},
   "outputs": [],
   "source": [
    "# insert_vectors = store.add_documents(docs[10000:])"
   ]
  },
  {
   "cell_type": "code",
   "execution_count": null,
   "id": "4f8362b4-0687-4ca8-84b6-c03b7bd84940",
   "metadata": {},
   "outputs": [],
   "source": [
    "len(docs)"
   ]
  },
  {
   "cell_type": "code",
   "execution_count": null,
   "id": "a396ebde-e3bb-4cdb-b78c-2f8548f10ac1",
   "metadata": {},
   "outputs": [],
   "source": [
    "len"
   ]
  }
 ],
 "metadata": {
  "kernelspec": {
   "display_name": "Python 3 (ipykernel)",
   "language": "python",
   "name": "python3"
  },
  "language_info": {
   "codemirror_mode": {
    "name": "ipython",
    "version": 3
   },
   "file_extension": ".py",
   "mimetype": "text/x-python",
   "name": "python",
   "nbconvert_exporter": "python",
   "pygments_lexer": "ipython3",
   "version": "3.10.11"
  }
 },
 "nbformat": 4,
 "nbformat_minor": 5
}
